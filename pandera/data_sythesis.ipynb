{
 "cells": [
  {
   "cell_type": "code",
   "execution_count": 1,
   "metadata": {},
   "outputs": [
    {
     "name": "stdout",
     "output_type": "stream",
     "text": [
      "   column1  column2 column3\n",
      "0       10     0.25     foo\n",
      "1       10     0.25     foo\n",
      "2       10     0.25     foo\n"
     ]
    }
   ],
   "source": [
    "import pandera as pa\n",
    "\n",
    "schema = pa.DataFrameSchema(\n",
    "    {\n",
    "        \"column1\": pa.Column(int, pa.Check.eq(10)),\n",
    "        \"column2\": pa.Column(float, pa.Check.eq(0.25)),\n",
    "        \"column3\": pa.Column(str, pa.Check.eq(\"foo\")),\n",
    "    }\n",
    ")\n",
    "print(schema.example(size=3))"
   ]
  },
  {
   "cell_type": "code",
   "execution_count": 2,
   "metadata": {},
   "outputs": [],
   "source": [
    "import hypothesis\n",
    "\n",
    "def processing_fn(df):\n",
    "    return df.assign(column4=df.column1 * df.column2)\n",
    "\n",
    "@hypothesis.given(schema.strategy(size=5))\n",
    "def test_processing_fn(dataframe):\n",
    "    result = processing_fn(dataframe)\n",
    "    assert \"column4\" in result"
   ]
  },
  {
   "cell_type": "code",
   "execution_count": null,
   "metadata": {},
   "outputs": [],
   "source": []
  }
 ],
 "metadata": {
  "kernelspec": {
   "display_name": "venv",
   "language": "python",
   "name": "python3"
  },
  "language_info": {
   "codemirror_mode": {
    "name": "ipython",
    "version": 3
   },
   "file_extension": ".py",
   "mimetype": "text/x-python",
   "name": "python",
   "nbconvert_exporter": "python",
   "pygments_lexer": "ipython3",
   "version": "3.10.9"
  },
  "orig_nbformat": 4
 },
 "nbformat": 4,
 "nbformat_minor": 2
}
