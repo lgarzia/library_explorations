{
 "cells": [
  {
   "cell_type": "code",
   "execution_count": 3,
   "metadata": {},
   "outputs": [
    {
     "data": {
      "text/plain": [
       "True"
      ]
     },
     "execution_count": 3,
     "metadata": {},
     "output_type": "execute_result"
    }
   ],
   "source": [
    "import os\n",
    "from dotenv import load_dotenv\n",
    "load_dotenv()"
   ]
  },
  {
   "cell_type": "code",
   "execution_count": 4,
   "metadata": {},
   "outputs": [],
   "source": [
    "from openai import OpenAI\n",
    "\n",
    "client = OpenAI(\n",
    "    # defaults to os.environ.get(\"OPENAI_API_KEY\")\n",
    "    api_key=os.getenv('OPEN_API_KEY'),\n",
    ")\n",
    "\n",
    "chat_completion = client.chat.completions.create(\n",
    "    messages=[\n",
    "        {\n",
    "            \"role\": \"user\",\n",
    "            \"content\": \"Say this is a test\",\n",
    "        }\n",
    "    ],\n",
    "    model=\"gpt-3.5-turbo\",\n",
    ")"
   ]
  },
  {
   "cell_type": "code",
   "execution_count": 5,
   "metadata": {},
   "outputs": [
    {
     "data": {
      "text/plain": [
       "ChatCompletion(id='chatcmpl-8NJ6Mbxpe1v3QxyOTVSWpi2JJhkSo', choices=[Choice(finish_reason='stop', index=0, message=ChatCompletionMessage(content='This is a test.', role='assistant', function_call=None, tool_calls=None))], created=1700565662, model='gpt-3.5-turbo-0613', object='chat.completion', system_fingerprint=None, usage=CompletionUsage(completion_tokens=5, prompt_tokens=12, total_tokens=17))"
      ]
     },
     "execution_count": 5,
     "metadata": {},
     "output_type": "execute_result"
    }
   ],
   "source": [
    "chat_completion"
   ]
  },
  {
   "cell_type": "code",
   "execution_count": 9,
   "metadata": {},
   "outputs": [],
   "source": [
    "prompts=r\"\"\"Create a plot in Python with matplotlib package.\n",
    "\n",
    "Input data:\n",
    "\n",
    "\n",
    "```python\n",
    "# pandas DataFrame\n",
    "'''\n",
    "    name  age grade\n",
    "0  Alice   25     A\n",
    "1    Bob   27     B\n",
    "2  Carol   29     C\n",
    "'''\n",
    "# DataFrame columns\n",
    "'''\n",
    "['name', 'age', 'grade']\n",
    "'''\n",
    "\n",
    "# pandas data frame variable is df\n",
    "```\n",
    "            \n",
    "\n",
    "\n",
    "Plot should contain: make a scatter plot\n",
    "\n",
    "Initial python code to be updated        \n",
    "\n",
    "```python\n",
    "# TODO import required dependencies\n",
    "# TODO Provide the plot\n",
    "```\n",
    "\n",
    "Output only Python code.\"\"\""
   ]
  },
  {
   "cell_type": "code",
   "execution_count": 10,
   "metadata": {},
   "outputs": [
    {
     "data": {
      "text/plain": [
       "\"Create a plot in Python with matplotlib package.\\n\\nInput data:\\n\\n\\n```python\\n# pandas DataFrame\\n'''\\n    name  age grade\\n0  Alice   25     A\\n1    Bob   27     B\\n2  Carol   29     C\\n'''\\n# DataFrame columns\\n'''\\n['name', 'age', 'grade']\\n'''\\n\\n# pandas data frame variable is df\\n```\\n            \\n\\n\\nPlot should contain: make a scatter plot\\n\\nInitial python code to be updated        \\n\\n```python\\n# TODO import required dependencies\\n# TODO Provide the plot\\n```\\n\\nOutput only Python code.\""
      ]
     },
     "execution_count": 10,
     "metadata": {},
     "output_type": "execute_result"
    }
   ],
   "source": [
    "prompts"
   ]
  },
  {
   "cell_type": "code",
   "execution_count": 11,
   "metadata": {},
   "outputs": [],
   "source": [
    "\n",
    "client = OpenAI(\n",
    "    # defaults to os.environ.get(\"OPENAI_API_KEY\")\n",
    "    api_key=os.getenv('OPEN_API_KEY'),\n",
    ")\n",
    "\n",
    "chat_completion = client.chat.completions.create(\n",
    "    messages=[{\"role\": \"system\", \"content\": \"You are data scientist\"},\n",
    "        { \"role\": \"user\", \"content\": prompts}\n",
    "    ],\n",
    "    model=\"gpt-3.5-turbo\",\n",
    ")"
   ]
  },
  {
   "cell_type": "code",
   "execution_count": 12,
   "metadata": {},
   "outputs": [
    {
     "data": {
      "text/plain": [
       "ChatCompletion(id='chatcmpl-8NKF6A0x1asMFUTJ7LIlRYy2ORZKa', choices=[Choice(finish_reason='stop', index=0, message=ChatCompletionMessage(content=\"```Python\\nimport matplotlib.pyplot as plt\\n\\n# Scatter plot\\nplt.scatter(df['age'], df['grade'])\\nplt.xlabel('Age')\\nplt.ylabel('Grade')\\n\\nplt.show()\\n```\", role='assistant', function_call=None, tool_calls=None))], created=1700570048, model='gpt-3.5-turbo-0613', object='chat.completion', system_fingerprint=None, usage=CompletionUsage(completion_tokens=37, prompt_tokens=134, total_tokens=171))"
      ]
     },
     "execution_count": 12,
     "metadata": {},
     "output_type": "execute_result"
    }
   ],
   "source": []
  },
  {
   "cell_type": "code",
   "execution_count": 21,
   "metadata": {},
   "outputs": [
    {
     "data": {
      "text/plain": [
       "\"```Python\\nimport matplotlib.pyplot as plt\\n\\n# Scatter plot\\nplt.scatter(df['age'], df['grade'])\\nplt.xlabel('Age')\\nplt.ylabel('Grade')\\n\\nplt.show()\\n```\""
      ]
     },
     "execution_count": 21,
     "metadata": {},
     "output_type": "execute_result"
    }
   ],
   "source": [
    "chat_completion.choices[0].message.content"
   ]
  },
  {
   "cell_type": "code",
   "execution_count": 22,
   "metadata": {},
   "outputs": [],
   "source": [
    "import pyperclip\n",
    "pyperclip.copy(chat_completion.choices[0].message.content)"
   ]
  },
  {
   "cell_type": "code",
   "execution_count": 4,
   "metadata": {},
   "outputs": [],
   "source": [
    "prompts=r\"\"\"Create a plot in Python with altair package. Output only Python code.\n",
    "\n",
    "Input data:\n",
    "```python\n",
    "# pandas DataFrame\n",
    "'''\n",
    "    name  age grade\n",
    "0  Alice   25     A\n",
    "1    Bob   27     B\n",
    "2  Carol   29     C\n",
    "'''\n",
    "# DataFrame columns\n",
    "'''\n",
    "['name', 'age', 'grade']\n",
    "'''\n",
    "\n",
    "# pandas data frame variable is df\n",
    "```\n",
    "\n",
    "Plot should contain: make a scatter plot\n",
    "\n",
    "Initial python code to be updated        \n",
    "\n",
    "```python\n",
    "# TODO import required dependencies\n",
    "# TODO Provide the plot\n",
    "```\n",
    "\n",
    "\"\"\""
   ]
  },
  {
   "cell_type": "code",
   "execution_count": 6,
   "metadata": {},
   "outputs": [],
   "source": [
    "client = "
   ]
  },
  {
   "cell_type": "code",
   "execution_count": 7,
   "metadata": {},
   "outputs": [
    {
     "data": {
      "text/plain": [
       "\"```python\\n# import required dependencies\\nimport altair as alt\\n\\n# Provide the plot\\nalt.Chart(df).mark_circle().encode(\\n    x='age',\\n    y='grade',\\n    color='grade',\\n    tooltip=['name', 'age', 'grade']\\n).properties(\\n    title='Scatter Plot',\\n    width=500,\\n    height=300\\n).interactive()\\n```\""
      ]
     },
     "execution_count": 7,
     "metadata": {},
     "output_type": "execute_result"
    }
   ],
   "source": [
    "chat_completion.choices[0].message.content"
   ]
  },
  {
   "cell_type": "code",
   "execution_count": 9,
   "metadata": {},
   "outputs": [],
   "source": [
    "import pyperclip\n",
    "pyperclip.copy(chat_completion.choices[0].message.content)"
   ]
  },
  {
   "cell_type": "markdown",
   "metadata": {},
   "source": [
    "This is like a code completion and it needs proper context"
   ]
  },
  {
   "cell_type": "markdown",
   "metadata": {},
   "source": []
  }
 ],
 "metadata": {
  "kernelspec": {
   "display_name": "venv",
   "language": "python",
   "name": "python3"
  },
  "language_info": {
   "codemirror_mode": {
    "name": "ipython",
    "version": 3
   },
   "file_extension": ".py",
   "mimetype": "text/x-python",
   "name": "python",
   "nbconvert_exporter": "python",
   "pygments_lexer": "ipython3",
   "version": "3.10.9"
  }
 },
 "nbformat": 4,
 "nbformat_minor": 2
}
