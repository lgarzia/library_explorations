{
 "cells": [
  {
   "cell_type": "markdown",
   "metadata": {},
   "source": [
    "https://platform.openai.com/docs/guides/code/best-practices \n",
    "Deprecated library, but instructions still helpful\n",
    "\n",
    "* think about what information a programmer would need to perform a task. \n",
    "* clear comment or the data needed to write a useful function\n",
    "* Specify the language \n",
    "* Specifying libraries\n",
    "* Comment style can affect code quality. With some languages the style of comments can improve the quality of the output. For example, when working with Python, in some cases using doc strings (comments wrapped in triple quotes) can give higher quality results than using the pound (#) symbol.\n",
    "* Prompt Codex with what you want it to do. (e.g. Create a web page, function)\n",
    "* Put comments inside of functions can be helpful\n",
    "* Provide examples for more precise results\n",
    "* Limit completion size for more precise results or lower latenc\n"
   ]
  },
  {
   "cell_type": "code",
   "execution_count": 1,
   "metadata": {},
   "outputs": [],
   "source": [
    "# https://platform.openai.com/examples/default-sql-translate\n",
    "# rift on this idea ---> provide background information\n",
    "# https://platform.openai.com/examples/default-function-from-spec\n",
    "# rift on this idea ---> create python functions, etc. "
   ]
  },
  {
   "cell_type": "code",
   "execution_count": 2,
   "metadata": {},
   "outputs": [],
   "source": [
    "# Setup\n",
    "import pandas as pd\n",
    "df = pd.DataFrame({'name': ['Alice', 'Bob', 'Carol'], 'age': [25, 27, 29], 'grade': ['A', 'B', 'C']})\n",
    "df2 = pd.DataFrame({'name': ['apple', 'banana', 'orange'], 'price': [1.2, 0.8, 0.6], 'quantity': [5, 3, 2]})\n",
    "df3 = pd.DataFrame({'name': ['John', 'Mary', 'Bob'], 'department': ['Sales', 'Marketing', 'Engineering'], 'salary': [50000, 60000, 70000]})"
   ]
  },
  {
   "cell_type": "code",
   "execution_count": 3,
   "metadata": {},
   "outputs": [],
   "source": [
    "import _wrapper as w"
   ]
  },
  {
   "cell_type": "code",
   "execution_count": 4,
   "metadata": {},
   "outputs": [],
   "source": [
    "client = w._get_client()"
   ]
  },
  {
   "cell_type": "code",
   "execution_count": 13,
   "metadata": {},
   "outputs": [],
   "source": [
    "prompt = r\"\"\"Create a plot in Python with matplotlib package.\n",
    "\n",
    "Input data:\n",
    "\n",
    "\n",
    "```python\n",
    "# pandas DataFrame\n",
    "'''\n",
    "    name  age grade\n",
    "0  Alice   25     A\n",
    "1    Bob   27     B\n",
    "2  Carol   29     C\n",
    "'''\n",
    "# DataFrame columns\n",
    "'''\n",
    "['name', 'age', 'grade']\n",
    "'''\n",
    "\n",
    "# pandas data frame variable is df\n",
    "```\n",
    "            \n",
    "\n",
    "\n",
    "Plot should contain: make a scatter plot\n",
    "\n",
    "Initial python code to be updated        \n",
    "\n",
    "```python\n",
    "# TODO import required dependencies\n",
    "# TODO Provide the plot\n",
    "```\n",
    "\n",
    "Output only Python code.\"\"\""
   ]
  },
  {
   "cell_type": "code",
   "execution_count": 14,
   "metadata": {},
   "outputs": [],
   "source": [
    "_ = w._get_response(client, user_content=prompt)"
   ]
  },
  {
   "cell_type": "code",
   "execution_count": 15,
   "metadata": {},
   "outputs": [
    {
     "data": {
      "text/plain": [
       "\"```python\\nimport matplotlib.pyplot as plt\\n\\n# Scatter plot\\nplt.scatter(df['age'], df['grade'])\\nplt.xlabel('Age')\\nplt.ylabel('Grade')\\n\\nplt.show()\\n```\""
      ]
     },
     "execution_count": 15,
     "metadata": {},
     "output_type": "execute_result"
    }
   ],
   "source": [
    "```python\n",
    "import matplotlib.pyplot as plt\n",
    "\n",
    "# Scatter plot\n",
    "plt.scatter(df['age'], df['grade'])\n",
    "plt.xlabel('Age')\n",
    "plt.ylabel('Grade')\n",
    "\n",
    "plt.show()\n",
    "```"
   ]
  },
  {
   "cell_type": "markdown",
   "metadata": {},
   "source": [
    "## Question 1 - Create code for altair?\n",
    "Same command, replace matplotlib with altair"
   ]
  },
  {
   "cell_type": "code",
   "execution_count": 5,
   "metadata": {},
   "outputs": [],
   "source": [
    "prompt=r\"\"\"Create a plot in Python with altair package. Output only Python code.\n",
    "\n",
    "Input data:\n",
    "```python\n",
    "# pandas DataFrame\n",
    "'''\n",
    "    name  age grade\n",
    "0  Alice   25     A\n",
    "1    Bob   27     B\n",
    "2  Carol   29     C\n",
    "'''\n",
    "# DataFrame columns\n",
    "'''\n",
    "['name', 'age', 'grade']\n",
    "'''\n",
    "\n",
    "# pandas data frame variable is df\n",
    "```\n",
    "\n",
    "Plot should contain: make a scatter plot\n",
    "\n",
    "Initial python code to be updated        \n",
    "\n",
    "```python\n",
    "# TODO import required dependencies\n",
    "# TODO Provide the plot\n",
    "```\n",
    "\n",
    "\"\"\""
   ]
  },
  {
   "cell_type": "code",
   "execution_count": 6,
   "metadata": {},
   "outputs": [],
   "source": [
    "_ = w._get_response(client, user_content=prompt)"
   ]
  },
  {
   "cell_type": "code",
   "execution_count": 16,
   "metadata": {},
   "outputs": [
    {
     "data": {
      "text/html": [
       "\n",
       "<style>\n",
       "  #altair-viz-22a21ad269754998a0d422cf65a29540.vega-embed {\n",
       "    width: 100%;\n",
       "    display: flex;\n",
       "  }\n",
       "\n",
       "  #altair-viz-22a21ad269754998a0d422cf65a29540.vega-embed details,\n",
       "  #altair-viz-22a21ad269754998a0d422cf65a29540.vega-embed details summary {\n",
       "    position: relative;\n",
       "  }\n",
       "</style>\n",
       "<div id=\"altair-viz-22a21ad269754998a0d422cf65a29540\"></div>\n",
       "<script type=\"text/javascript\">\n",
       "  var VEGA_DEBUG = (typeof VEGA_DEBUG == \"undefined\") ? {} : VEGA_DEBUG;\n",
       "  (function(spec, embedOpt){\n",
       "    let outputDiv = document.currentScript.previousElementSibling;\n",
       "    if (outputDiv.id !== \"altair-viz-22a21ad269754998a0d422cf65a29540\") {\n",
       "      outputDiv = document.getElementById(\"altair-viz-22a21ad269754998a0d422cf65a29540\");\n",
       "    }\n",
       "    const paths = {\n",
       "      \"vega\": \"https://cdn.jsdelivr.net/npm/vega@5?noext\",\n",
       "      \"vega-lib\": \"https://cdn.jsdelivr.net/npm/vega-lib?noext\",\n",
       "      \"vega-lite\": \"https://cdn.jsdelivr.net/npm/vega-lite@5.16.3?noext\",\n",
       "      \"vega-embed\": \"https://cdn.jsdelivr.net/npm/vega-embed@6?noext\",\n",
       "    };\n",
       "\n",
       "    function maybeLoadScript(lib, version) {\n",
       "      var key = `${lib.replace(\"-\", \"\")}_version`;\n",
       "      return (VEGA_DEBUG[key] == version) ?\n",
       "        Promise.resolve(paths[lib]) :\n",
       "        new Promise(function(resolve, reject) {\n",
       "          var s = document.createElement('script');\n",
       "          document.getElementsByTagName(\"head\")[0].appendChild(s);\n",
       "          s.async = true;\n",
       "          s.onload = () => {\n",
       "            VEGA_DEBUG[key] = version;\n",
       "            return resolve(paths[lib]);\n",
       "          };\n",
       "          s.onerror = () => reject(`Error loading script: ${paths[lib]}`);\n",
       "          s.src = paths[lib];\n",
       "        });\n",
       "    }\n",
       "\n",
       "    function showError(err) {\n",
       "      outputDiv.innerHTML = `<div class=\"error\" style=\"color:red;\">${err}</div>`;\n",
       "      throw err;\n",
       "    }\n",
       "\n",
       "    function displayChart(vegaEmbed) {\n",
       "      vegaEmbed(outputDiv, spec, embedOpt)\n",
       "        .catch(err => showError(`Javascript Error: ${err.message}<br>This usually means there's a typo in your chart specification. See the javascript console for the full traceback.`));\n",
       "    }\n",
       "\n",
       "    if(typeof define === \"function\" && define.amd) {\n",
       "      requirejs.config({paths});\n",
       "      require([\"vega-embed\"], displayChart, err => showError(`Error loading script: ${err.message}`));\n",
       "    } else {\n",
       "      maybeLoadScript(\"vega\", \"5\")\n",
       "        .then(() => maybeLoadScript(\"vega-lite\", \"5.16.3\"))\n",
       "        .then(() => maybeLoadScript(\"vega-embed\", \"6\"))\n",
       "        .catch(showError)\n",
       "        .then(() => displayChart(vegaEmbed));\n",
       "    }\n",
       "  })({\"config\": {\"view\": {\"continuousWidth\": 300, \"continuousHeight\": 300}}, \"data\": {\"name\": \"data-5b0904a982ec7c7c0c0aee77ecfc075f\"}, \"mark\": {\"type\": \"point\"}, \"encoding\": {\"color\": {\"field\": \"name\", \"type\": \"nominal\"}, \"x\": {\"field\": \"age\", \"type\": \"quantitative\"}, \"y\": {\"field\": \"grade\", \"type\": \"nominal\"}}, \"params\": [{\"name\": \"param_4\", \"select\": {\"type\": \"interval\", \"encodings\": [\"x\", \"y\"]}, \"bind\": \"scales\"}], \"$schema\": \"https://vega.github.io/schema/vega-lite/v5.16.3.json\", \"datasets\": {\"data-5b0904a982ec7c7c0c0aee77ecfc075f\": [{\"name\": \"Alice\", \"age\": 25, \"grade\": \"A\"}, {\"name\": \"Bob\", \"age\": 27, \"grade\": \"B\"}, {\"name\": \"Carol\", \"age\": 29, \"grade\": \"C\"}]}}, {\"mode\": \"vega-lite\"});\n",
       "</script>"
      ],
      "text/plain": [
       "alt.Chart(...)"
      ]
     },
     "execution_count": 16,
     "metadata": {},
     "output_type": "execute_result"
    }
   ],
   "source": [
    "\n",
    "# import required dependencies\n",
    "import altair as alt\n",
    "\n",
    "# dataframe\n",
    "data = {'name': ['Alice', 'Bob', 'Carol'],\n",
    "        'age': [25, 27, 29],\n",
    "        'grade': ['A', 'B', 'C']}\n",
    "df = pd.DataFrame(data)\n",
    "\n",
    "# scatter plot\n",
    "scatter_plot = alt.Chart(df).mark_point().encode(\n",
    "    x='age:Q',\n",
    "    y='grade:N',\n",
    "    color='name:N'\n",
    ").interactive()\n",
    "\n",
    "# display the plot\n",
    "#scatter_plot.show()\n",
    "scatter_plot"
   ]
  },
  {
   "cell_type": "markdown",
   "metadata": {},
   "source": [
    "## Experiment 2: Can I modify Altair prompt to get cleaner output?"
   ]
  },
  {
   "cell_type": "code",
   "execution_count": 38,
   "metadata": {},
   "outputs": [],
   "source": [
    "prompt=r\"\"\" Return only the python script to complete the TODO\n",
    "import altair as alt\n",
    "import pandas as pd\n",
    "data = {'name': ['Alice', 'Bob', 'Carol'],\n",
    "        'age': [25, 27, 29],\n",
    "        'grade': ['A', 'B', 'C']}\n",
    "\n",
    "df = pd.DataFrame(data)\n",
    "# Only return the following section\n",
    "# TODO Complete the altair chart to make a scatter plot\n",
    "\"\"\""
   ]
  },
  {
   "cell_type": "code",
   "execution_count": 39,
   "metadata": {},
   "outputs": [],
   "source": [
    "_ = w._get_response(client, user_content=prompt)"
   ]
  },
  {
   "cell_type": "code",
   "execution_count": 92,
   "metadata": {},
   "outputs": [
    {
     "ename": "RuntimeError",
     "evalue": "Internal: _stream is not defined.",
     "output_type": "error",
     "traceback": [
      "\u001b[1;31m---------------------------------------------------------------------------\u001b[0m",
      "\u001b[1;31mRuntimeError\u001b[0m                              Traceback (most recent call last)",
      "\u001b[1;32mc:\\Users\\lgarzia\\Documents\\GitHub\\library_explorations\\openai-python\\pandas_code_competion.ipynb Cell 16\u001b[0m line \u001b[0;36m8\n\u001b[0;32m      <a href='vscode-notebook-cell:/c%3A/Users/lgarzia/Documents/GitHub/library_explorations/openai-python/pandas_code_competion.ipynb#X41sZmlsZQ%3D%3D?line=0'>1</a>\u001b[0m \u001b[39m# TODO Complete the altair chart to make a scatter plot\u001b[39;00m\n\u001b[0;32m      <a href='vscode-notebook-cell:/c%3A/Users/lgarzia/Documents/GitHub/library_explorations/openai-python/pandas_code_competion.ipynb#X41sZmlsZQ%3D%3D?line=1'>2</a>\u001b[0m chart \u001b[39m=\u001b[39m alt\u001b[39m.\u001b[39mChart(df)\u001b[39m.\u001b[39mmark_circle()\u001b[39m.\u001b[39mencode(\n\u001b[0;32m      <a href='vscode-notebook-cell:/c%3A/Users/lgarzia/Documents/GitHub/library_explorations/openai-python/pandas_code_competion.ipynb#X41sZmlsZQ%3D%3D?line=2'>3</a>\u001b[0m     x\u001b[39m=\u001b[39m\u001b[39m'\u001b[39m\u001b[39mage\u001b[39m\u001b[39m'\u001b[39m,\n\u001b[0;32m      <a href='vscode-notebook-cell:/c%3A/Users/lgarzia/Documents/GitHub/library_explorations/openai-python/pandas_code_competion.ipynb#X41sZmlsZQ%3D%3D?line=3'>4</a>\u001b[0m     y\u001b[39m=\u001b[39m\u001b[39m'\u001b[39m\u001b[39mname\u001b[39m\u001b[39m'\u001b[39m,\n\u001b[0;32m      <a href='vscode-notebook-cell:/c%3A/Users/lgarzia/Documents/GitHub/library_explorations/openai-python/pandas_code_competion.ipynb#X41sZmlsZQ%3D%3D?line=4'>5</a>\u001b[0m     color\u001b[39m=\u001b[39m\u001b[39m'\u001b[39m\u001b[39mgrade\u001b[39m\u001b[39m'\u001b[39m\n\u001b[0;32m      <a href='vscode-notebook-cell:/c%3A/Users/lgarzia/Documents/GitHub/library_explorations/openai-python/pandas_code_competion.ipynb#X41sZmlsZQ%3D%3D?line=5'>6</a>\u001b[0m )\u001b[39m.\u001b[39minteractive()\n\u001b[1;32m----> <a href='vscode-notebook-cell:/c%3A/Users/lgarzia/Documents/GitHub/library_explorations/openai-python/pandas_code_competion.ipynb#X41sZmlsZQ%3D%3D?line=7'>8</a>\u001b[0m chart\u001b[39m.\u001b[39;49mshow()\n",
      "File \u001b[1;32mc:\\Users\\lgarzia\\Documents\\GitHub\\library_explorations\\openai-python\\venv\\lib\\site-packages\\altair\\vegalite\\v5\\api.py:2691\u001b[0m, in \u001b[0;36mTopLevelMixin.show\u001b[1;34m(self, embed_opt, open_browser)\u001b[0m\n\u001b[0;32m   2686\u001b[0m \u001b[39mexcept\u001b[39;00m \u001b[39mImportError\u001b[39;00m \u001b[39mas\u001b[39;00m err:\n\u001b[0;32m   2687\u001b[0m     \u001b[39mraise\u001b[39;00m \u001b[39mValueError\u001b[39;00m(\n\u001b[0;32m   2688\u001b[0m         \u001b[39m\"\u001b[39m\u001b[39m'\u001b[39m\u001b[39mshow\u001b[39m\u001b[39m'\u001b[39m\u001b[39m method requires the altair_viewer package. \u001b[39m\u001b[39m\"\u001b[39m\n\u001b[0;32m   2689\u001b[0m         \u001b[39m\"\u001b[39m\u001b[39mSee http://github.com/altair-viz/altair_viewer\u001b[39m\u001b[39m\"\u001b[39m\n\u001b[0;32m   2690\u001b[0m     ) \u001b[39mfrom\u001b[39;00m \u001b[39merr\u001b[39;00m\n\u001b[1;32m-> 2691\u001b[0m altair_viewer\u001b[39m.\u001b[39;49mshow(\u001b[39mself\u001b[39;49m, embed_opt\u001b[39m=\u001b[39;49membed_opt, open_browser\u001b[39m=\u001b[39;49mopen_browser)\n",
      "File \u001b[1;32mc:\\Users\\lgarzia\\Documents\\GitHub\\library_explorations\\openai-python\\venv\\lib\\site-packages\\altair_viewer\\_viewer.py:355\u001b[0m, in \u001b[0;36mChartViewer.show\u001b[1;34m(self, chart, embed_opt, open_browser)\u001b[0m\n\u001b[0;32m    328\u001b[0m \u001b[39mdef\u001b[39;00m \u001b[39mshow\u001b[39m(\n\u001b[0;32m    329\u001b[0m     \u001b[39mself\u001b[39m,\n\u001b[0;32m    330\u001b[0m     chart: Union[\u001b[39mdict\u001b[39m, alt\u001b[39m.\u001b[39mTopLevelMixin],\n\u001b[0;32m    331\u001b[0m     embed_opt: Optional[\u001b[39mdict\u001b[39m] \u001b[39m=\u001b[39m \u001b[39mNone\u001b[39;00m,\n\u001b[0;32m    332\u001b[0m     open_browser: Optional[\u001b[39mbool\u001b[39m] \u001b[39m=\u001b[39m \u001b[39mNone\u001b[39;00m,\n\u001b[0;32m    333\u001b[0m ) \u001b[39m-\u001b[39m\u001b[39m>\u001b[39m \u001b[39mNone\u001b[39;00m:\n\u001b[0;32m    334\u001b[0m \u001b[39m    \u001b[39m\u001b[39m\"\"\"Show chart and prompt to pause execution.\u001b[39;00m\n\u001b[0;32m    335\u001b[0m \n\u001b[0;32m    336\u001b[0m \u001b[39m    Use this to show a chart within a stand-alone script, to prevent the Python process\u001b[39;00m\n\u001b[1;32m   (...)\u001b[0m\n\u001b[0;32m    353\u001b[0m \u001b[39m    render : Jupyter renderer for chart.\u001b[39;00m\n\u001b[0;32m    354\u001b[0m \u001b[39m    \"\"\"\u001b[39;00m\n\u001b[1;32m--> 355\u001b[0m     msg \u001b[39m=\u001b[39m \u001b[39mself\u001b[39;49m\u001b[39m.\u001b[39;49mdisplay(chart, embed_opt\u001b[39m=\u001b[39;49membed_opt, open_browser\u001b[39m=\u001b[39;49mopen_browser)\n\u001b[0;32m    356\u001b[0m     \u001b[39mprint\u001b[39m(msg)\n\u001b[0;32m    357\u001b[0m     \u001b[39mif\u001b[39;00m \u001b[39mself\u001b[39m\u001b[39m.\u001b[39m_provider \u001b[39mis\u001b[39;00m \u001b[39mnot\u001b[39;00m \u001b[39mNone\u001b[39;00m:\n",
      "File \u001b[1;32mc:\\Users\\lgarzia\\Documents\\GitHub\\library_explorations\\openai-python\\venv\\lib\\site-packages\\altair_viewer\\_viewer.py:268\u001b[0m, in \u001b[0;36mChartViewer.display\u001b[1;34m(self, chart, inline, embed_opt, open_browser)\u001b[0m\n\u001b[0;32m    266\u001b[0m \u001b[39mself\u001b[39m\u001b[39m.\u001b[39m_initialize()\n\u001b[0;32m    267\u001b[0m \u001b[39mif\u001b[39;00m \u001b[39mself\u001b[39m\u001b[39m.\u001b[39m_stream \u001b[39mis\u001b[39;00m \u001b[39mNone\u001b[39;00m:\n\u001b[1;32m--> 268\u001b[0m     \u001b[39mraise\u001b[39;00m \u001b[39mRuntimeError\u001b[39;00m(\u001b[39m\"\u001b[39m\u001b[39mInternal: _stream is not defined.\u001b[39m\u001b[39m\"\u001b[39m)\n\u001b[0;32m    269\u001b[0m \u001b[39mif\u001b[39;00m inline:\n\u001b[0;32m    270\u001b[0m     \u001b[39mfrom\u001b[39;00m \u001b[39mIPython\u001b[39;00m \u001b[39mimport\u001b[39;00m display\n",
      "\u001b[1;31mRuntimeError\u001b[0m: Internal: _stream is not defined."
     ]
    }
   ],
   "source": [
    "# TODO Complete the altair chart to make a scatter plot\n",
    "chart = alt.Chart(df).mark_circle().encode(\n",
    "    x='age',\n",
    "    y='name',\n",
    "    color='grade'\n",
    ").interactive()\n",
    "\n",
    "chart.show()"
   ]
  },
  {
   "cell_type": "markdown",
   "metadata": {},
   "source": [
    "## Can I correct the usage via Examples"
   ]
  },
  {
   "cell_type": "code",
   "execution_count": 43,
   "metadata": {},
   "outputs": [],
   "source": [
    "prompt=r\"\"\"\n",
    "import altair as alt\n",
    "import pandas as pd\n",
    "data = {'name': ['Alice', 'Bob', 'Carol'],\n",
    "        'age': [25, 27, 29],\n",
    "        'grade': ['A', 'B', 'C']}\n",
    "\n",
    "df = pd.DataFrame(data)\n",
    "# Example altair plot - do not set to variable\n",
    "# alt.Chart(df).mark_circle().encode(\n",
    "#    x='age',\n",
    "#    y='name',\n",
    "#    color='grade'\n",
    "# ).interactive()\n",
    "\n",
    "# Only return the python code after todo\n",
    "# TODO Complete the altair chart to make a bar plot\n",
    "\n",
    "\"\"\""
   ]
  },
  {
   "cell_type": "code",
   "execution_count": 44,
   "metadata": {},
   "outputs": [],
   "source": [
    "_ = w._get_response(client, user_content=prompt)"
   ]
  },
  {
   "cell_type": "code",
   "execution_count": 45,
   "metadata": {},
   "outputs": [
    {
     "data": {
      "text/html": [
       "\n",
       "<style>\n",
       "  #altair-viz-0ffd3fa6af7f4407b2fcbb3cf21ff3d0.vega-embed {\n",
       "    width: 100%;\n",
       "    display: flex;\n",
       "  }\n",
       "\n",
       "  #altair-viz-0ffd3fa6af7f4407b2fcbb3cf21ff3d0.vega-embed details,\n",
       "  #altair-viz-0ffd3fa6af7f4407b2fcbb3cf21ff3d0.vega-embed details summary {\n",
       "    position: relative;\n",
       "  }\n",
       "</style>\n",
       "<div id=\"altair-viz-0ffd3fa6af7f4407b2fcbb3cf21ff3d0\"></div>\n",
       "<script type=\"text/javascript\">\n",
       "  var VEGA_DEBUG = (typeof VEGA_DEBUG == \"undefined\") ? {} : VEGA_DEBUG;\n",
       "  (function(spec, embedOpt){\n",
       "    let outputDiv = document.currentScript.previousElementSibling;\n",
       "    if (outputDiv.id !== \"altair-viz-0ffd3fa6af7f4407b2fcbb3cf21ff3d0\") {\n",
       "      outputDiv = document.getElementById(\"altair-viz-0ffd3fa6af7f4407b2fcbb3cf21ff3d0\");\n",
       "    }\n",
       "    const paths = {\n",
       "      \"vega\": \"https://cdn.jsdelivr.net/npm/vega@5?noext\",\n",
       "      \"vega-lib\": \"https://cdn.jsdelivr.net/npm/vega-lib?noext\",\n",
       "      \"vega-lite\": \"https://cdn.jsdelivr.net/npm/vega-lite@5.16.3?noext\",\n",
       "      \"vega-embed\": \"https://cdn.jsdelivr.net/npm/vega-embed@6?noext\",\n",
       "    };\n",
       "\n",
       "    function maybeLoadScript(lib, version) {\n",
       "      var key = `${lib.replace(\"-\", \"\")}_version`;\n",
       "      return (VEGA_DEBUG[key] == version) ?\n",
       "        Promise.resolve(paths[lib]) :\n",
       "        new Promise(function(resolve, reject) {\n",
       "          var s = document.createElement('script');\n",
       "          document.getElementsByTagName(\"head\")[0].appendChild(s);\n",
       "          s.async = true;\n",
       "          s.onload = () => {\n",
       "            VEGA_DEBUG[key] = version;\n",
       "            return resolve(paths[lib]);\n",
       "          };\n",
       "          s.onerror = () => reject(`Error loading script: ${paths[lib]}`);\n",
       "          s.src = paths[lib];\n",
       "        });\n",
       "    }\n",
       "\n",
       "    function showError(err) {\n",
       "      outputDiv.innerHTML = `<div class=\"error\" style=\"color:red;\">${err}</div>`;\n",
       "      throw err;\n",
       "    }\n",
       "\n",
       "    function displayChart(vegaEmbed) {\n",
       "      vegaEmbed(outputDiv, spec, embedOpt)\n",
       "        .catch(err => showError(`Javascript Error: ${err.message}<br>This usually means there's a typo in your chart specification. See the javascript console for the full traceback.`));\n",
       "    }\n",
       "\n",
       "    if(typeof define === \"function\" && define.amd) {\n",
       "      requirejs.config({paths});\n",
       "      require([\"vega-embed\"], displayChart, err => showError(`Error loading script: ${err.message}`));\n",
       "    } else {\n",
       "      maybeLoadScript(\"vega\", \"5\")\n",
       "        .then(() => maybeLoadScript(\"vega-lite\", \"5.16.3\"))\n",
       "        .then(() => maybeLoadScript(\"vega-embed\", \"6\"))\n",
       "        .catch(showError)\n",
       "        .then(() => displayChart(vegaEmbed));\n",
       "    }\n",
       "  })({\"config\": {\"view\": {\"continuousWidth\": 300, \"continuousHeight\": 300}}, \"data\": {\"name\": \"data-5b0904a982ec7c7c0c0aee77ecfc075f\"}, \"mark\": {\"type\": \"bar\"}, \"encoding\": {\"color\": {\"field\": \"grade\", \"type\": \"nominal\"}, \"x\": {\"field\": \"name\", \"type\": \"nominal\"}, \"y\": {\"field\": \"age\", \"type\": \"quantitative\"}}, \"params\": [{\"name\": \"param_7\", \"select\": {\"type\": \"interval\", \"encodings\": [\"x\", \"y\"]}, \"bind\": \"scales\"}], \"$schema\": \"https://vega.github.io/schema/vega-lite/v5.16.3.json\", \"datasets\": {\"data-5b0904a982ec7c7c0c0aee77ecfc075f\": [{\"name\": \"Alice\", \"age\": 25, \"grade\": \"A\"}, {\"name\": \"Bob\", \"age\": 27, \"grade\": \"B\"}, {\"name\": \"Carol\", \"age\": 29, \"grade\": \"C\"}]}}, {\"mode\": \"vega-lite\"});\n",
       "</script>"
      ],
      "text/plain": [
       "alt.Chart(...)"
      ]
     },
     "execution_count": 45,
     "metadata": {},
     "output_type": "execute_result"
    }
   ],
   "source": [
    "# Completed altair chart\n",
    "\n",
    "alt.Chart(df).mark_bar().encode(\n",
    "    x='name',\n",
    "    y='age',\n",
    "    color='grade'\n",
    ").interactive()"
   ]
  },
  {
   "cell_type": "markdown",
   "metadata": {},
   "source": [
    "## Experiment - can I get tooltips & can I specify columns of interest"
   ]
  },
  {
   "cell_type": "code",
   "execution_count": 93,
   "metadata": {},
   "outputs": [],
   "source": [
    "prompt=r\"\"\"\n",
    "import altair as alt\n",
    "import pandas as pd\n",
    "data = {'name': ['Alice', 'Bob', 'Carol'],\n",
    "        'age': [25, 27, 29],\n",
    "        'grade': ['A', 'B', 'C']}\n",
    "\n",
    "df = pd.DataFrame(data)\n",
    "# Example altair plot - do not set to variable\n",
    "# alt.Chart(df).mark_circle().encode(\n",
    "#    x='age',\n",
    "#    y='name',\n",
    "#    color='grade'\n",
    "# ).interactive()\n",
    "\n",
    "# Only return the python code after todo\n",
    "# TODO Complete the altair chart to make a bar plot with tooltips, use age, grade\n",
    "\"\"\""
   ]
  },
  {
   "cell_type": "code",
   "execution_count": 94,
   "metadata": {},
   "outputs": [],
   "source": [
    "_ = w._get_response(client, user_content=prompt)\n",
    "# attempt one dropped the color"
   ]
  },
  {
   "cell_type": "code",
   "execution_count": 95,
   "metadata": {},
   "outputs": [
    {
     "data": {
      "text/html": [
       "\n",
       "<style>\n",
       "  #altair-viz-b1304e4e45424758a9a1d95d9c2f3cfb.vega-embed {\n",
       "    width: 100%;\n",
       "    display: flex;\n",
       "  }\n",
       "\n",
       "  #altair-viz-b1304e4e45424758a9a1d95d9c2f3cfb.vega-embed details,\n",
       "  #altair-viz-b1304e4e45424758a9a1d95d9c2f3cfb.vega-embed details summary {\n",
       "    position: relative;\n",
       "  }\n",
       "</style>\n",
       "<div id=\"altair-viz-b1304e4e45424758a9a1d95d9c2f3cfb\"></div>\n",
       "<script type=\"text/javascript\">\n",
       "  var VEGA_DEBUG = (typeof VEGA_DEBUG == \"undefined\") ? {} : VEGA_DEBUG;\n",
       "  (function(spec, embedOpt){\n",
       "    let outputDiv = document.currentScript.previousElementSibling;\n",
       "    if (outputDiv.id !== \"altair-viz-b1304e4e45424758a9a1d95d9c2f3cfb\") {\n",
       "      outputDiv = document.getElementById(\"altair-viz-b1304e4e45424758a9a1d95d9c2f3cfb\");\n",
       "    }\n",
       "    const paths = {\n",
       "      \"vega\": \"https://cdn.jsdelivr.net/npm/vega@5?noext\",\n",
       "      \"vega-lib\": \"https://cdn.jsdelivr.net/npm/vega-lib?noext\",\n",
       "      \"vega-lite\": \"https://cdn.jsdelivr.net/npm/vega-lite@5.16.3?noext\",\n",
       "      \"vega-embed\": \"https://cdn.jsdelivr.net/npm/vega-embed@6?noext\",\n",
       "    };\n",
       "\n",
       "    function maybeLoadScript(lib, version) {\n",
       "      var key = `${lib.replace(\"-\", \"\")}_version`;\n",
       "      return (VEGA_DEBUG[key] == version) ?\n",
       "        Promise.resolve(paths[lib]) :\n",
       "        new Promise(function(resolve, reject) {\n",
       "          var s = document.createElement('script');\n",
       "          document.getElementsByTagName(\"head\")[0].appendChild(s);\n",
       "          s.async = true;\n",
       "          s.onload = () => {\n",
       "            VEGA_DEBUG[key] = version;\n",
       "            return resolve(paths[lib]);\n",
       "          };\n",
       "          s.onerror = () => reject(`Error loading script: ${paths[lib]}`);\n",
       "          s.src = paths[lib];\n",
       "        });\n",
       "    }\n",
       "\n",
       "    function showError(err) {\n",
       "      outputDiv.innerHTML = `<div class=\"error\" style=\"color:red;\">${err}</div>`;\n",
       "      throw err;\n",
       "    }\n",
       "\n",
       "    function displayChart(vegaEmbed) {\n",
       "      vegaEmbed(outputDiv, spec, embedOpt)\n",
       "        .catch(err => showError(`Javascript Error: ${err.message}<br>This usually means there's a typo in your chart specification. See the javascript console for the full traceback.`));\n",
       "    }\n",
       "\n",
       "    if(typeof define === \"function\" && define.amd) {\n",
       "      requirejs.config({paths});\n",
       "      require([\"vega-embed\"], displayChart, err => showError(`Error loading script: ${err.message}`));\n",
       "    } else {\n",
       "      maybeLoadScript(\"vega\", \"5\")\n",
       "        .then(() => maybeLoadScript(\"vega-lite\", \"5.16.3\"))\n",
       "        .then(() => maybeLoadScript(\"vega-embed\", \"6\"))\n",
       "        .catch(showError)\n",
       "        .then(() => displayChart(vegaEmbed));\n",
       "    }\n",
       "  })({\"config\": {\"view\": {\"continuousWidth\": 300, \"continuousHeight\": 300}}, \"data\": {\"name\": \"data-5b0904a982ec7c7c0c0aee77ecfc075f\"}, \"mark\": {\"type\": \"bar\"}, \"encoding\": {\"tooltip\": [{\"field\": \"age\", \"type\": \"quantitative\"}, {\"field\": \"grade\", \"type\": \"nominal\"}], \"x\": {\"field\": \"age\", \"type\": \"quantitative\"}, \"y\": {\"field\": \"grade\", \"type\": \"nominal\"}}, \"params\": [{\"name\": \"param_13\", \"select\": {\"type\": \"interval\", \"encodings\": [\"x\", \"y\"]}, \"bind\": \"scales\"}], \"$schema\": \"https://vega.github.io/schema/vega-lite/v5.16.3.json\", \"datasets\": {\"data-5b0904a982ec7c7c0c0aee77ecfc075f\": [{\"name\": \"Alice\", \"age\": 25, \"grade\": \"A\"}, {\"name\": \"Bob\", \"age\": 27, \"grade\": \"B\"}, {\"name\": \"Carol\", \"age\": 29, \"grade\": \"C\"}]}}, {\"mode\": \"vega-lite\"});\n",
       "</script>"
      ],
      "text/plain": [
       "alt.Chart(...)"
      ]
     },
     "execution_count": 95,
     "metadata": {},
     "output_type": "execute_result"
    }
   ],
   "source": [
    "alt.Chart(df).mark_bar().encode(\n",
    "    x='age',\n",
    "    y='grade',\n",
    "    tooltip=['age', 'grade']\n",
    ").interactive()"
   ]
  },
  {
   "cell_type": "markdown",
   "metadata": {},
   "source": [
    "## Experiment - Infer the Altair Data Types\n",
    "https://altair-viz.github.io/user_guide/data.html\n",
    "https://altair-viz.github.io/user_guide/encodings/index.html#encoding-data-types\n",
    "\n",
    "Can it reason with data provides"
   ]
  },
  {
   "cell_type": "code",
   "execution_count": 90,
   "metadata": {},
   "outputs": [],
   "source": [
    "prompt=r\"\"\"\n",
    "import altair as alt\n",
    "import pandas as pd\n",
    "data = {'name': ['Alice', 'Bob', 'Carol'],\n",
    "        'age': [25, 27, 29],\n",
    "        'grade': ['A', 'B', 'C']}\n",
    "\n",
    "df = pd.DataFrame(data)\n",
    "\n",
    "# Example altair plot - do not set to variable\n",
    "alt.Chart(cars).mark_point().encode(\n",
    "    alt.X('Acceleration', type='quantitative'),\n",
    "    alt.Y('Miles_per_Gallon', type='quantitative'),\n",
    "    alt.Color('Origin', type='nominal')\n",
    ")).interactive()\n",
    "\n",
    "# Only return the python code that creates Chart object\n",
    "```python\n",
    "# TODO Complete the altair chart that mirrors provided example\n",
    "```\n",
    "\"\"\""
   ]
  },
  {
   "cell_type": "code",
   "execution_count": 91,
   "metadata": {},
   "outputs": [],
   "source": [
    "_ = w._get_response(client, user_content=prompt) # 6 attempts\n",
    "# I'm realizing the challenge here, need for experimentation and tracking\n"
   ]
  },
  {
   "cell_type": "code",
   "execution_count": null,
   "metadata": {},
   "outputs": [],
   "source": [
    "```python\n",
    "import altair as alt\n",
    "import pandas as pd\n",
    "\n",
    "data = {'name': ['Alice', 'Bob', 'Carol'],\n",
    "        'age': [25, 27, 29],\n",
    "        'grade': ['A', 'B', 'C']}\n",
    "\n",
    "df = pd.DataFrame(data)\n",
    "\n",
    "alt.Chart(df).mark_point().encode(\n",
    "    alt.X('age', type='quantitative'),\n",
    "    alt.Y('name', type='nominal'),\n",
    "    alt.Color('grade', type='nominal')\n",
    ").interactive()\n",
    "```"
   ]
  },
  {
   "cell_type": "code",
   "execution_count": 71,
   "metadata": {},
   "outputs": [],
   "source": [
    "prompt=r\"\"\"\n",
    "```python\n",
    "import altair as alt\n",
    "import pandas as pd\n",
    "data = {'name': ['Alice', 'Bob', 'Carol'],\n",
    "        'age': [25, 27, 29],\n",
    "        'grade': ['A', 'B', 'C']}\n",
    "\n",
    "df = pd.DataFrame(data)\n",
    "```\n",
    "For each variable in data, provide one the Altair encoding data types (Q, O, N, T, G)\n",
    "return only the results as a python dictionary\n",
    "\"\"\""
   ]
  },
  {
   "cell_type": "code",
   "execution_count": 73,
   "metadata": {},
   "outputs": [],
   "source": [
    "_ = w._get_response(client, user_content=prompt)\n",
    "# 2 pretty good, originally had name as ordered"
   ]
  },
  {
   "cell_type": "code",
   "execution_count": null,
   "metadata": {},
   "outputs": [],
   "source": [
    "```python\n",
    "encoding_types = {'name': 'N', 'age': 'Q', 'grade': 'N'}\n",
    "```"
   ]
  },
  {
   "cell_type": "code",
   "execution_count": 98,
   "metadata": {},
   "outputs": [],
   "source": [
    "prompt=r\"\"\"\n",
    "```python\n",
    "import altair as alt\n",
    "import pandas as pd\n",
    "data = {'name': ['Alice', 'Bob', 'Carol'],\n",
    "        'age': [25, 27, 29],\n",
    "        'grade': ['A', 'B', 'C'], \n",
    "        'dates': ['2023-01-01', '2023-02-01', '2023-03-01'] }\n",
    "\n",
    "df = pd.DataFrame(data)\n",
    "```\n",
    "Only return python code:\n",
    "Create a single python dictionary, where each variable is a key, and the value \n",
    "is one of the Altair encoding data types (Q, O, N, T, G)\n",
    "\"\"\""
   ]
  },
  {
   "cell_type": "code",
   "execution_count": 99,
   "metadata": {},
   "outputs": [],
   "source": [
    "_ = w._get_response(client, user_content=prompt)\n",
    "# see some of the challenges with this result"
   ]
  },
  {
   "cell_type": "code",
   "execution_count": null,
   "metadata": {},
   "outputs": [],
   "source": [
    "```python\n",
    "encoding = {\n",
    "    'name': 'O',\n",
    "    'age': 'N',\n",
    "    'grade': 'N',\n",
    "    'dates': 'T'\n",
    "}\n",
    "```"
   ]
  },
  {
   "cell_type": "markdown",
   "metadata": {},
   "source": [
    "## Experiment - can I get leave generic, can it infer appropriate charts for data"
   ]
  },
  {
   "cell_type": "code",
   "execution_count": 104,
   "metadata": {},
   "outputs": [],
   "source": [
    "prompt=r\"\"\"\n",
    "```python\n",
    "import altair as alt\n",
    "import pandas as pd\n",
    "data = {'name': ['Alice', 'Bob', 'Carol'],\n",
    "        'age': [25, 27, 29],\n",
    "        'grade': ['A', 'B', 'C'], \n",
    "        'dates': ['2023-01-01', '2023-02-01', '2023-03-01'] }\n",
    "\n",
    "df = pd.DataFrame(data)\n",
    "```\n",
    "Recommend only one Altair mark_ for plotting name, age, grades based on data visualization best practices\n",
    "\n",
    "\"\"\""
   ]
  },
  {
   "cell_type": "code",
   "execution_count": 105,
   "metadata": {},
   "outputs": [],
   "source": [
    "_ = w._get_response(client, user_content=prompt)"
   ]
  },
  {
   "cell_type": "code",
   "execution_count": null,
   "metadata": {},
   "outputs": [],
   "source": [
    "Based on data visualization best practices, the most suitable mark for plotting name, age, and grades would be the bar mark. The bar mark is commonly used to show categorical data and provides a clear visual representation of comparisons between different categories. \n",
    "\n",
    "Here's an example of how to use the bar mark in Altair to plot the given data:\n",
    "\n",
    "```python\n",
    "import altair as alt\n",
    "\n",
    "alt.Chart(df).mark_bar().encode(\n",
    "    x='name',\n",
    "    y='age',\n",
    "    color='grade'\n",
    ")\n",
    "```\n",
    "\n",
    "This will create a bar chart where the x-axis represents the \"name\" column, the y-axis represents the \"age\" column, and the bars are colored based on the \"grade\" column."
   ]
  },
  {
   "cell_type": "code",
   "execution_count": 78,
   "metadata": {},
   "outputs": [
    {
     "data": {
      "text/html": [
       "\n",
       "<style>\n",
       "  #altair-viz-c8b24dc255de44d8b58f926c0aa22b57.vega-embed {\n",
       "    width: 100%;\n",
       "    display: flex;\n",
       "  }\n",
       "\n",
       "  #altair-viz-c8b24dc255de44d8b58f926c0aa22b57.vega-embed details,\n",
       "  #altair-viz-c8b24dc255de44d8b58f926c0aa22b57.vega-embed details summary {\n",
       "    position: relative;\n",
       "  }\n",
       "</style>\n",
       "<div id=\"altair-viz-c8b24dc255de44d8b58f926c0aa22b57\"></div>\n",
       "<script type=\"text/javascript\">\n",
       "  var VEGA_DEBUG = (typeof VEGA_DEBUG == \"undefined\") ? {} : VEGA_DEBUG;\n",
       "  (function(spec, embedOpt){\n",
       "    let outputDiv = document.currentScript.previousElementSibling;\n",
       "    if (outputDiv.id !== \"altair-viz-c8b24dc255de44d8b58f926c0aa22b57\") {\n",
       "      outputDiv = document.getElementById(\"altair-viz-c8b24dc255de44d8b58f926c0aa22b57\");\n",
       "    }\n",
       "    const paths = {\n",
       "      \"vega\": \"https://cdn.jsdelivr.net/npm/vega@5?noext\",\n",
       "      \"vega-lib\": \"https://cdn.jsdelivr.net/npm/vega-lib?noext\",\n",
       "      \"vega-lite\": \"https://cdn.jsdelivr.net/npm/vega-lite@5.16.3?noext\",\n",
       "      \"vega-embed\": \"https://cdn.jsdelivr.net/npm/vega-embed@6?noext\",\n",
       "    };\n",
       "\n",
       "    function maybeLoadScript(lib, version) {\n",
       "      var key = `${lib.replace(\"-\", \"\")}_version`;\n",
       "      return (VEGA_DEBUG[key] == version) ?\n",
       "        Promise.resolve(paths[lib]) :\n",
       "        new Promise(function(resolve, reject) {\n",
       "          var s = document.createElement('script');\n",
       "          document.getElementsByTagName(\"head\")[0].appendChild(s);\n",
       "          s.async = true;\n",
       "          s.onload = () => {\n",
       "            VEGA_DEBUG[key] = version;\n",
       "            return resolve(paths[lib]);\n",
       "          };\n",
       "          s.onerror = () => reject(`Error loading script: ${paths[lib]}`);\n",
       "          s.src = paths[lib];\n",
       "        });\n",
       "    }\n",
       "\n",
       "    function showError(err) {\n",
       "      outputDiv.innerHTML = `<div class=\"error\" style=\"color:red;\">${err}</div>`;\n",
       "      throw err;\n",
       "    }\n",
       "\n",
       "    function displayChart(vegaEmbed) {\n",
       "      vegaEmbed(outputDiv, spec, embedOpt)\n",
       "        .catch(err => showError(`Javascript Error: ${err.message}<br>This usually means there's a typo in your chart specification. See the javascript console for the full traceback.`));\n",
       "    }\n",
       "\n",
       "    if(typeof define === \"function\" && define.amd) {\n",
       "      requirejs.config({paths});\n",
       "      require([\"vega-embed\"], displayChart, err => showError(`Error loading script: ${err.message}`));\n",
       "    } else {\n",
       "      maybeLoadScript(\"vega\", \"5\")\n",
       "        .then(() => maybeLoadScript(\"vega-lite\", \"5.16.3\"))\n",
       "        .then(() => maybeLoadScript(\"vega-embed\", \"6\"))\n",
       "        .catch(showError)\n",
       "        .then(() => displayChart(vegaEmbed));\n",
       "    }\n",
       "  })({\"config\": {\"view\": {\"continuousWidth\": 300, \"continuousHeight\": 300}}, \"data\": {\"name\": \"data-5b0904a982ec7c7c0c0aee77ecfc075f\"}, \"mark\": {\"type\": \"text\"}, \"encoding\": {\"color\": {\"field\": \"grade\", \"type\": \"nominal\"}, \"text\": {\"field\": \"grade\", \"type\": \"nominal\"}, \"x\": {\"field\": \"name\", \"type\": \"nominal\"}, \"y\": {\"field\": \"age\", \"type\": \"quantitative\"}}, \"width\": 300, \"$schema\": \"https://vega.github.io/schema/vega-lite/v5.16.3.json\", \"datasets\": {\"data-5b0904a982ec7c7c0c0aee77ecfc075f\": [{\"name\": \"Alice\", \"age\": 25, \"grade\": \"A\"}, {\"name\": \"Bob\", \"age\": 27, \"grade\": \"B\"}, {\"name\": \"Carol\", \"age\": 29, \"grade\": \"C\"}]}}, {\"mode\": \"vega-lite\"});\n",
       "</script>"
      ],
      "text/plain": [
       "alt.Chart(...)"
      ]
     },
     "execution_count": 78,
     "metadata": {},
     "output_type": "execute_result"
    }
   ],
   "source": [
    "alt.Chart(df).mark_text().encode(\n",
    "    x='name',\n",
    "    y='age',\n",
    "    text='grade',\n",
    "    color='grade'\n",
    ").properties(\n",
    "    width=300\n",
    ")"
   ]
  },
  {
   "cell_type": "markdown",
   "metadata": {},
   "source": [
    "## Experiment - Can I create a compound chart?\n",
    "https://altair-viz.github.io/user_guide/compound_charts.html#horizontal-concatenation"
   ]
  },
  {
   "cell_type": "code",
   "execution_count": 86,
   "metadata": {},
   "outputs": [],
   "source": [
    "prompt=r\"\"\"\n",
    "```python\n",
    "import altair as alt\n",
    "import pandas as pd\n",
    "data = {'name': ['Alice', 'Bob', 'Carol'],\n",
    "        'age': [25, 27, 29],\n",
    "        'grade': ['A', 'B', 'C'], \n",
    "        'dates': ['2023-01-01', '2023-02-01', '2023-03-01'] }\n",
    "\n",
    "df = pd.DataFrame(data)\n",
    "```\n",
    "return only python code, only return code related to Altair after the #TODO\n",
    "#TODO: plot 2 charts, left chart uses name and age, right chart uses age and grade\n",
    "\"\"\""
   ]
  },
  {
   "cell_type": "code",
   "execution_count": 87,
   "metadata": {},
   "outputs": [],
   "source": [
    "_ = w._get_response(client, user_content=prompt)\n",
    "# 3 attempts - can't seem to figure out - only want "
   ]
  },
  {
   "cell_type": "markdown",
   "metadata": {},
   "source": [
    "```python\n",
    "import altair as alt\n",
    "import pandas as pd\n",
    "data = {'name': ['Alice', 'Bob', 'Carol'],\n",
    "        'age': [25, 27, 29],\n",
    "        'grade': ['A', 'B', 'C'], \n",
    "        'dates': ['2023-01-01', '2023-02-01', '2023-03-01'] }\n",
    "\n",
    "df = pd.DataFrame(data)\n",
    "\n",
    "# TODO: plot 2 charts, left chart uses name and age, right chart uses age and grade\n",
    "\n",
    "left_chart = alt.Chart(df).mark_circle().encode(\n",
    "    x='name',\n",
    "    y='age'\n",
    ")\n",
    "\n",
    "right_chart = alt.Chart(df).mark_circle().encode(\n",
    "    x='age',\n",
    "    y='grade'\n",
    ")\n",
    "\n",
    "(chart1 | chart2)\n",
    "```"
   ]
  },
  {
   "cell_type": "markdown",
   "metadata": {},
   "source": [
    "Note - code didn't work"
   ]
  },
  {
   "cell_type": "code",
   "execution_count": 89,
   "metadata": {},
   "outputs": [
    {
     "data": {
      "text/html": [
       "\n",
       "<style>\n",
       "  #altair-viz-c6d2654bc4d94868b3bed4bcfa837981.vega-embed {\n",
       "    width: 100%;\n",
       "    display: flex;\n",
       "  }\n",
       "\n",
       "  #altair-viz-c6d2654bc4d94868b3bed4bcfa837981.vega-embed details,\n",
       "  #altair-viz-c6d2654bc4d94868b3bed4bcfa837981.vega-embed details summary {\n",
       "    position: relative;\n",
       "  }\n",
       "</style>\n",
       "<div id=\"altair-viz-c6d2654bc4d94868b3bed4bcfa837981\"></div>\n",
       "<script type=\"text/javascript\">\n",
       "  var VEGA_DEBUG = (typeof VEGA_DEBUG == \"undefined\") ? {} : VEGA_DEBUG;\n",
       "  (function(spec, embedOpt){\n",
       "    let outputDiv = document.currentScript.previousElementSibling;\n",
       "    if (outputDiv.id !== \"altair-viz-c6d2654bc4d94868b3bed4bcfa837981\") {\n",
       "      outputDiv = document.getElementById(\"altair-viz-c6d2654bc4d94868b3bed4bcfa837981\");\n",
       "    }\n",
       "    const paths = {\n",
       "      \"vega\": \"https://cdn.jsdelivr.net/npm/vega@5?noext\",\n",
       "      \"vega-lib\": \"https://cdn.jsdelivr.net/npm/vega-lib?noext\",\n",
       "      \"vega-lite\": \"https://cdn.jsdelivr.net/npm/vega-lite@5.16.3?noext\",\n",
       "      \"vega-embed\": \"https://cdn.jsdelivr.net/npm/vega-embed@6?noext\",\n",
       "    };\n",
       "\n",
       "    function maybeLoadScript(lib, version) {\n",
       "      var key = `${lib.replace(\"-\", \"\")}_version`;\n",
       "      return (VEGA_DEBUG[key] == version) ?\n",
       "        Promise.resolve(paths[lib]) :\n",
       "        new Promise(function(resolve, reject) {\n",
       "          var s = document.createElement('script');\n",
       "          document.getElementsByTagName(\"head\")[0].appendChild(s);\n",
       "          s.async = true;\n",
       "          s.onload = () => {\n",
       "            VEGA_DEBUG[key] = version;\n",
       "            return resolve(paths[lib]);\n",
       "          };\n",
       "          s.onerror = () => reject(`Error loading script: ${paths[lib]}`);\n",
       "          s.src = paths[lib];\n",
       "        });\n",
       "    }\n",
       "\n",
       "    function showError(err) {\n",
       "      outputDiv.innerHTML = `<div class=\"error\" style=\"color:red;\">${err}</div>`;\n",
       "      throw err;\n",
       "    }\n",
       "\n",
       "    function displayChart(vegaEmbed) {\n",
       "      vegaEmbed(outputDiv, spec, embedOpt)\n",
       "        .catch(err => showError(`Javascript Error: ${err.message}<br>This usually means there's a typo in your chart specification. See the javascript console for the full traceback.`));\n",
       "    }\n",
       "\n",
       "    if(typeof define === \"function\" && define.amd) {\n",
       "      requirejs.config({paths});\n",
       "      require([\"vega-embed\"], displayChart, err => showError(`Error loading script: ${err.message}`));\n",
       "    } else {\n",
       "      maybeLoadScript(\"vega\", \"5\")\n",
       "        .then(() => maybeLoadScript(\"vega-lite\", \"5.16.3\"))\n",
       "        .then(() => maybeLoadScript(\"vega-embed\", \"6\"))\n",
       "        .catch(showError)\n",
       "        .then(() => displayChart(vegaEmbed));\n",
       "    }\n",
       "  })({\"config\": {\"view\": {\"continuousWidth\": 300, \"continuousHeight\": 300}}, \"hconcat\": [{\"mark\": {\"type\": \"circle\"}, \"encoding\": {\"x\": {\"field\": \"name\", \"type\": \"nominal\"}, \"y\": {\"field\": \"age\", \"type\": \"quantitative\"}}}, {\"mark\": {\"type\": \"circle\"}, \"encoding\": {\"x\": {\"field\": \"age\", \"type\": \"quantitative\"}, \"y\": {\"field\": \"grade\", \"type\": \"nominal\"}}}], \"data\": {\"name\": \"data-5b0904a982ec7c7c0c0aee77ecfc075f\"}, \"$schema\": \"https://vega.github.io/schema/vega-lite/v5.16.3.json\", \"datasets\": {\"data-5b0904a982ec7c7c0c0aee77ecfc075f\": [{\"name\": \"Alice\", \"age\": 25, \"grade\": \"A\"}, {\"name\": \"Bob\", \"age\": 27, \"grade\": \"B\"}, {\"name\": \"Carol\", \"age\": 29, \"grade\": \"C\"}]}}, {\"mode\": \"vega-lite\"});\n",
       "</script>"
      ],
      "text/plain": [
       "alt.HConcatChart(...)"
      ]
     },
     "execution_count": 89,
     "metadata": {},
     "output_type": "execute_result"
    }
   ],
   "source": [
    "left_chart = alt.Chart(df).mark_circle().encode(\n",
    "    x='name',\n",
    "    y='age'\n",
    ")\n",
    "\n",
    "right_chart = alt.Chart(df).mark_circle().encode(\n",
    "    x='age',\n",
    "    y='grade'\n",
    ")\n",
    "\n",
    "(left_chart | right_chart)"
   ]
  },
  {
   "cell_type": "code",
   "execution_count": null,
   "metadata": {},
   "outputs": [],
   "source": []
  }
 ],
 "metadata": {
  "kernelspec": {
   "display_name": "venv",
   "language": "python",
   "name": "python3"
  },
  "language_info": {
   "codemirror_mode": {
    "name": "ipython",
    "version": 3
   },
   "file_extension": ".py",
   "mimetype": "text/x-python",
   "name": "python",
   "nbconvert_exporter": "python",
   "pygments_lexer": "ipython3",
   "version": "3.10.9"
  }
 },
 "nbformat": 4,
 "nbformat_minor": 2
}
