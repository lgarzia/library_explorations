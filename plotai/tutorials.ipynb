{
 "cells": [
  {
   "cell_type": "code",
   "execution_count": 1,
   "metadata": {},
   "outputs": [],
   "source": [
    "# import PlotAI\n",
    "from plotai import PlotAI"
   ]
  },
  {
   "cell_type": "code",
   "execution_count": 6,
   "metadata": {},
   "outputs": [],
   "source": [
    "import pandas as pd\n",
    "df1 = pd.DataFrame({'name': ['Alice', 'Bob', 'Carol'], 'age': [25, 27, 29], 'grade': ['A', 'B', 'C']})\n",
    "df2 = pd.DataFrame({'name': ['apple', 'banana', 'orange'], 'price': [1.2, 0.8, 0.6], 'quantity': [5, 3, 2]})\n",
    "df3 = pd.DataFrame({'name': ['John', 'Mary', 'Bob'], 'department': ['Sales', 'Marketing', 'Engineering'], 'salary': [50000, 60000, 70000]})"
   ]
  },
  {
   "cell_type": "code",
   "execution_count": 3,
   "metadata": {},
   "outputs": [],
   "source": [
    "# create PlotAI object, pass pandas DataFrame as an argument\n",
    "plot = PlotAI(df1)"
   ]
  },
  {
   "cell_type": "code",
   "execution_count": 4,
   "metadata": {},
   "outputs": [
    {
     "data": {
      "text/html": [
       "\n",
       "<details>\n",
       "  <summary>Prompt</summary>\n",
       "  <pre>\n",
       "  Create a plot in Python with matplotlib package.\n",
       "\n",
       "Input data:\n",
       "\n",
       "\n",
       "```python\n",
       "# pandas DataFrame\n",
       "'''\n",
       "    name  age grade\n",
       "0  Alice   25     A\n",
       "1    Bob   27     B\n",
       "2  Carol   29     C\n",
       "'''\n",
       "# DataFrame columns\n",
       "'''\n",
       "['name', 'age', 'grade']\n",
       "'''\n",
       "\n",
       "# pandas data frame variable is df\n",
       "```\n",
       "            \n",
       "\n",
       "\n",
       "Plot should contain: make a scatter plot\n",
       "\n",
       "Initial python code to be updated        \n",
       "\n",
       "```python\n",
       "# TODO import required dependencies\n",
       "# TODO Provide the plot\n",
       "```\n",
       "\n",
       "Output only Python code.\n",
       "\n",
       "  </pre>\n",
       "</details>\n",
       "\n",
       "\n",
       "<style>\n",
       "details {\n",
       "  border: 1px solid #aaa;\n",
       "  border-radius: 4px;\n",
       "  padding: 0.5em 0.5em 0;\n",
       "  margin-top: 3px;\n",
       "}\n",
       "\n",
       "summary {\n",
       "  font-weight: bold;\n",
       "  margin: -0.5em -0.5em 0;\n",
       "  padding: 0.5em;\n",
       "}\n",
       "\n",
       "details[open] {\n",
       "  padding: 0.5em;\n",
       "}\n",
       "\n",
       "details[open] summary {\n",
       "  border-bottom: 1px solid #aaa;\n",
       "  margin-bottom: 0.5em;\n",
       "}\n",
       "</style>\n",
       "\n"
      ],
      "text/plain": [
       "<IPython.core.display.HTML object>"
      ]
     },
     "metadata": {},
     "output_type": "display_data"
    },
    {
     "data": {
      "text/html": [
       "\n",
       "<details>\n",
       "  <summary>Response</summary>\n",
       "  <pre>\n",
       "  ```python\n",
       "# import required dependencies\n",
       "import matplotlib.pyplot as plt\n",
       "\n",
       "# create scatter plot\n",
       "plt.scatter(df['age'], df['grade'])\n",
       "\n",
       "# set x-axis label\n",
       "plt.xlabel('Age')\n",
       "\n",
       "# set y-axis label\n",
       "plt.ylabel('Grade')\n",
       "\n",
       "# set title\n",
       "plt.title('Age vs Grade')\n",
       "\n",
       "# display the plot\n",
       "plt.show()\n",
       "```\n",
       "  </pre>\n",
       "</details>\n",
       "\n",
       "\n",
       "<style>\n",
       "details {\n",
       "  border: 1px solid #aaa;\n",
       "  border-radius: 4px;\n",
       "  padding: 0.5em 0.5em 0;\n",
       "  margin-top: 3px;\n",
       "}\n",
       "\n",
       "summary {\n",
       "  font-weight: bold;\n",
       "  margin: -0.5em -0.5em 0;\n",
       "  padding: 0.5em;\n",
       "}\n",
       "\n",
       "details[open] {\n",
       "  padding: 0.5em;\n",
       "}\n",
       "\n",
       "details[open] summary {\n",
       "  border-bottom: 1px solid #aaa;\n",
       "  margin-bottom: 0.5em;\n",
       "}\n",
       "</style>\n",
       "\n"
      ],
      "text/plain": [
       "<IPython.core.display.HTML object>"
      ]
     },
     "metadata": {},
     "output_type": "display_data"
    },
    {
     "data": {
      "image/png": "[encoded data removed]",
      "text/plain": [
       "<Figure size 640x480 with 1 Axes>"
      ]
     },
     "metadata": {},
     "output_type": "display_data"
    }
   ],
   "source": [
    "# make a plot, just tell what you want\n",
    "plot.make(\"make a scatter plot\")"
   ]
  },
  {
   "cell_type": "code",
   "execution_count": 8,
   "metadata": {},
   "outputs": [
    {
     "data": {
      "text/html": [
       "\n",
       "<style>\n",
       "  #altair-viz-42e74aac84f24710a3b0da04576ce356.vega-embed {\n",
       "    width: 100%;\n",
       "    display: flex;\n",
       "  }\n",
       "\n",
       "  #altair-viz-42e74aac84f24710a3b0da04576ce356.vega-embed details,\n",
       "  #altair-viz-42e74aac84f24710a3b0da04576ce356.vega-embed details summary {\n",
       "    position: relative;\n",
       "  }\n",
       "</style>\n",
       "<div id=\"altair-viz-42e74aac84f24710a3b0da04576ce356\"></div>\n",
       "<script type=\"text/javascript\">\n",
       "  var VEGA_DEBUG = (typeof VEGA_DEBUG == \"undefined\") ? {} : VEGA_DEBUG;\n",
       "  (function(spec, embedOpt){\n",
       "    let outputDiv = document.currentScript.previousElementSibling;\n",
       "    if (outputDiv.id !== \"altair-viz-42e74aac84f24710a3b0da04576ce356\") {\n",
       "      outputDiv = document.getElementById(\"altair-viz-42e74aac84f24710a3b0da04576ce356\");\n",
       "    }\n",
       "    const paths = {\n",
       "      \"vega\": \"https://cdn.jsdelivr.net/npm/vega@5?noext\",\n",
       "      \"vega-lib\": \"https://cdn.jsdelivr.net/npm/vega-lib?noext\",\n",
       "      \"vega-lite\": \"https://cdn.jsdelivr.net/npm/vega-lite@5.15.1?noext\",\n",
       "      \"vega-embed\": \"https://cdn.jsdelivr.net/npm/vega-embed@6?noext\",\n",
       "    };\n",
       "\n",
       "    function maybeLoadScript(lib, version) {\n",
       "      var key = `${lib.replace(\"-\", \"\")}_version`;\n",
       "      return (VEGA_DEBUG[key] == version) ?\n",
       "        Promise.resolve(paths[lib]) :\n",
       "        new Promise(function(resolve, reject) {\n",
       "          var s = document.createElement('script');\n",
       "          document.getElementsByTagName(\"head\")[0].appendChild(s);\n",
       "          s.async = true;\n",
       "          s.onload = () => {\n",
       "            VEGA_DEBUG[key] = version;\n",
       "            return resolve(paths[lib]);\n",
       "          };\n",
       "          s.onerror = () => reject(`Error loading script: ${paths[lib]}`);\n",
       "          s.src = paths[lib];\n",
       "        });\n",
       "    }\n",
       "\n",
       "    function showError(err) {\n",
       "      outputDiv.innerHTML = `<div class=\"error\" style=\"color:red;\">${err}</div>`;\n",
       "      throw err;\n",
       "    }\n",
       "\n",
       "    function displayChart(vegaEmbed) {\n",
       "      vegaEmbed(outputDiv, spec, embedOpt)\n",
       "        .catch(err => showError(`Javascript Error: ${err.message}<br>This usually means there's a typo in your chart specification. See the javascript console for the full traceback.`));\n",
       "    }\n",
       "\n",
       "    if(typeof define === \"function\" && define.amd) {\n",
       "      requirejs.config({paths});\n",
       "      require([\"vega-embed\"], displayChart, err => showError(`Error loading script: ${err.message}`));\n",
       "    } else {\n",
       "      maybeLoadScript(\"vega\", \"5\")\n",
       "        .then(() => maybeLoadScript(\"vega-lite\", \"5.15.1\"))\n",
       "        .then(() => maybeLoadScript(\"vega-embed\", \"6\"))\n",
       "        .catch(showError)\n",
       "        .then(() => displayChart(vegaEmbed));\n",
       "    }\n",
       "  })({\"config\": {\"view\": {\"continuousWidth\": 300, \"continuousHeight\": 300}}, \"data\": {\"name\": \"data-5b0904a982ec7c7c0c0aee77ecfc075f\"}, \"mark\": {\"type\": \"point\"}, \"encoding\": {\"color\": {\"field\": \"name\", \"type\": \"nominal\"}, \"x\": {\"field\": \"age\", \"type\": \"quantitative\"}, \"y\": {\"field\": \"grade\", \"type\": \"nominal\"}}, \"params\": [{\"name\": \"param_1\", \"select\": {\"type\": \"interval\", \"encodings\": [\"x\", \"y\"]}, \"bind\": \"scales\"}], \"$schema\": \"https://vega.github.io/schema/vega-lite/v5.15.1.json\", \"datasets\": {\"data-5b0904a982ec7c7c0c0aee77ecfc075f\": [{\"name\": \"Alice\", \"age\": 25, \"grade\": \"A\"}, {\"name\": \"Bob\", \"age\": 27, \"grade\": \"B\"}, {\"name\": \"Carol\", \"age\": 29, \"grade\": \"C\"}]}}, {\"mode\": \"vega-lite\"});\n",
       "</script>"
      ],
      "text/plain": [
       "alt.Chart(...)"
      ]
     },
     "execution_count": 8,
     "metadata": {},
     "output_type": "execute_result"
    }
   ],
   "source": [
    "# Import required dependencies\n",
    "import altair as alt\n",
    "\n",
    "# Provide the plot\n",
    "alt.Chart(df1).mark_point().encode(\n",
    "    x='age',\n",
    "    y='grade',\n",
    "    color='name'\n",
    ").interactive()"
   ]
  },
  {
   "cell_type": "code",
   "execution_count": null,
   "metadata": {},
   "outputs": [],
   "source": []
  }
 ],
 "metadata": {
  "kernelspec": {
   "display_name": "venv",
   "language": "python",
   "name": "python3"
  },
  "language_info": {
   "codemirror_mode": {
    "name": "ipython",
    "version": 3
   },
   "file_extension": ".py",
   "mimetype": "text/x-python",
   "name": "python",
   "nbconvert_exporter": "python",
   "pygments_lexer": "ipython3",
   "version": "3.10.9"
  }
 },
 "nbformat": 4,
 "nbformat_minor": 2
}
