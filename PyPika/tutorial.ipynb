{
 "cells": [
  {
   "cell_type": "code",
   "execution_count": 1,
   "metadata": {},
   "outputs": [],
   "source": [
    "from pypika import Query, Table, Field"
   ]
  },
  {
   "cell_type": "code",
   "execution_count": 2,
   "metadata": {},
   "outputs": [],
   "source": [
    "q = Query.from_('customers').select('id', 'fname', 'lname', 'phone')"
   ]
  },
  {
   "cell_type": "code",
   "execution_count": 3,
   "metadata": {},
   "outputs": [
    {
     "data": {
      "text/plain": [
       "'SELECT \"id\",\"fname\",\"lname\",\"phone\" FROM \"customers\"'"
      ]
     },
     "execution_count": 3,
     "metadata": {},
     "output_type": "execute_result"
    }
   ],
   "source": [
    "str(q)"
   ]
  },
  {
   "cell_type": "code",
   "execution_count": 4,
   "metadata": {},
   "outputs": [
    {
     "data": {
      "text/plain": [
       "'SELECT \"id\",\"fname\",\"lname\",\"phone\" FROM \"customers\"'"
      ]
     },
     "execution_count": 4,
     "metadata": {},
     "output_type": "execute_result"
    }
   ],
   "source": [
    "q.get_sql()"
   ]
  },
  {
   "cell_type": "code",
   "execution_count": 6,
   "metadata": {},
   "outputs": [],
   "source": [
    "from pypika import Table, Query\n",
    "\n",
    "customers = Table('customers')\n",
    "q = Query.from_(customers).select(customers.id, customers.fname, customers.lname, customers.phone)"
   ]
  },
  {
   "cell_type": "code",
   "execution_count": 7,
   "metadata": {},
   "outputs": [],
   "source": [
    "Table('x_view_customers').as_('customers')\n",
    "q = Query.from_(customers).select(customers.id, customers.phone)"
   ]
  },
  {
   "cell_type": "code",
   "execution_count": 8,
   "metadata": {},
   "outputs": [],
   "source": [
    "from pypika import Table, Query, Schema\n",
    "views = Schema('views')\n",
    "q = Query.from_(views.customers).select(customers.id, customers.phone)"
   ]
  },
  {
   "cell_type": "code",
   "execution_count": 9,
   "metadata": {},
   "outputs": [
    {
     "data": {
      "text/plain": [
       "SELECT \"id\",\"phone\" FROM \"views\".\"customers\""
      ]
     },
     "execution_count": 9,
     "metadata": {},
     "output_type": "execute_result"
    }
   ],
   "source": [
    "q"
   ]
  },
  {
   "cell_type": "code",
   "execution_count": 10,
   "metadata": {},
   "outputs": [],
   "source": [
    "from pypika import Table, Query, Database\n",
    "my_db = Database('my_db')\n",
    "q = Query.from_(my_db.analytics.customers).select(customers.id, customers.phone)"
   ]
  },
  {
   "cell_type": "code",
   "execution_count": 11,
   "metadata": {},
   "outputs": [
    {
     "data": {
      "text/plain": [
       "SELECT \"id\",\"fname\",\"lname\",\"phone\" FROM \"customers\" ORDER BY \"id\" DESC"
      ]
     },
     "execution_count": 11,
     "metadata": {},
     "output_type": "execute_result"
    }
   ],
   "source": [
    "from pypika import Order\n",
    "Query.from_('customers').select('id', 'fname', 'lname', 'phone').orderby('id', order=Order.desc)"
   ]
  },
  {
   "cell_type": "code",
   "execution_count": 12,
   "metadata": {},
   "outputs": [
    {
     "data": {
      "text/plain": [
       "SELECT \"revenue\"-\"cost\" FROM \"account\""
      ]
     },
     "execution_count": 12,
     "metadata": {},
     "output_type": "execute_result"
    }
   ],
   "source": [
    "from pypika import Field\n",
    "q = Query.from_('account').select(\n",
    "    Field('revenue') - Field('cost')\n",
    ")\n",
    "q"
   ]
  },
  {
   "cell_type": "code",
   "execution_count": 13,
   "metadata": {},
   "outputs": [
    {
     "data": {
      "text/plain": [
       "SELECT \"id\",\"fname\",\"lname\",\"phone\" FROM \"customers\" WHERE \"lname\"='Mustermann'"
      ]
     },
     "execution_count": 13,
     "metadata": {},
     "output_type": "execute_result"
    }
   ],
   "source": [
    "customers = Table('customers')\n",
    "q = Query.from_(customers).select(\n",
    "    customers.id, customers.fname, customers.lname, customers.phone\n",
    ").where(\n",
    "    customers.lname == 'Mustermann'\n",
    ")\n",
    "q"
   ]
  },
  {
   "cell_type": "code",
   "execution_count": 15,
   "metadata": {},
   "outputs": [
    {
     "data": {
      "text/plain": [
       "SELECT \"id\",\"fname\" FROM \"customers\" WHERE \"age\" BETWEEN 18 AND 65 AND \"status\" IN ('new','active')"
      ]
     },
     "execution_count": 15,
     "metadata": {},
     "output_type": "execute_result"
    }
   ],
   "source": [
    "customers = Table('customers')\n",
    "q = Query.from_(customers).select(\n",
    "    customers.id,customers.fname\n",
    ").where(\n",
    "    customers.age[18:65] & customers.status.isin(['new', 'active'])\n",
    ")\n",
    "q"
   ]
  },
  {
   "cell_type": "markdown",
   "metadata": {},
   "source": [
    "In the Criterion class, there are the static methods any and all that allow building chains AND and OR expressions with a list of terms."
   ]
  },
  {
   "cell_type": "code",
   "execution_count": null,
   "metadata": {},
   "outputs": [],
   "source": []
  }
 ],
 "metadata": {
  "kernelspec": {
   "display_name": "venv",
   "language": "python",
   "name": "python3"
  },
  "language_info": {
   "codemirror_mode": {
    "name": "ipython",
    "version": 3
   },
   "file_extension": ".py",
   "mimetype": "text/x-python",
   "name": "python",
   "nbconvert_exporter": "python",
   "pygments_lexer": "ipython3",
   "version": "3.10.9"
  },
  "orig_nbformat": 4
 },
 "nbformat": 4,
 "nbformat_minor": 2
}
